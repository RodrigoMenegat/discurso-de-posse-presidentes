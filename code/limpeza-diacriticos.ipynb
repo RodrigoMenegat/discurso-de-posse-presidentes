{
 "cells": [
  {
   "cell_type": "markdown",
   "metadata": {},
   "source": [
    "# Limpar os diacríticos"
   ]
  },
  {
   "cell_type": "markdown",
   "metadata": {},
   "source": [
    "Como a maior parte dos discursos publicados na matéria foi extraída de um PDF, há certos problemas de padronização. O principal deles é a presença de caracteres diacríticos no lugar de acentos em formato ASCII, formando uma string de `length == 2` em vez de um único caractere. Isso dificulta comparações e tem efeitos, ainda que pequenos, na análise.\n",
    "\n",
    "Vamos definir uma função que remove e substitui estes."
   ]
  },
  {
   "cell_type": "markdown",
   "metadata": {},
   "source": [
    "#### Importar pacotes, definir configurações e ler os dados"
   ]
  },
  {
   "cell_type": "code",
   "execution_count": 1,
   "metadata": {
    "collapsed": true
   },
   "outputs": [],
   "source": [
    "import glob\n",
    "import pandas as pd\n",
    "import os"
   ]
  },
  {
   "cell_type": "code",
   "execution_count": 2,
   "metadata": {
    "collapsed": true
   },
   "outputs": [],
   "source": [
    "def find_fpaths( dir_path, pattern ):\n",
    "    '''\n",
    "    >> DESCRIÇÃO\n",
    "    \n",
    "    Usa o módulo glob para buscar todos os arquivos\n",
    "    que correspondam ao padrão passado na variável \n",
    "    pattern'. Retorna uma lista de paths no formato \n",
    "    string. \n",
    "    \n",
    "    >> PARÂMETROS\n",
    "    \n",
    "    dir_path -> uma string com o caminho para o\n",
    "    diretório onde a busca pelos arquivos será\n",
    "    realizada.\n",
    "    \n",
    "    pattern -> uma string com o padrão de texto\n",
    "    que deve ser procurado no diretório.\n",
    "    \n",
    "    '''\n",
    "    \n",
    "    full_pattern = dir_path + pattern\n",
    "    files = glob.glob( full_pattern )\n",
    "    \n",
    "    return files"
   ]
  },
  {
   "cell_type": "code",
   "execution_count": 3,
   "metadata": {
    "collapsed": true
   },
   "outputs": [],
   "source": [
    "files = find_fpaths( \"../data/txts/\", \"*.txt\" )"
   ]
  },
  {
   "cell_type": "markdown",
   "metadata": {},
   "source": [
    "#### Define a função que vai fazer a substituição das palavras"
   ]
  },
  {
   "cell_type": "code",
   "execution_count": 4,
   "metadata": {
    "collapsed": true
   },
   "outputs": [],
   "source": [
    "def clean_diacritics( file_list ):\n",
    "    '''\n",
    "    >> DESCRIÇÃO\n",
    "    \n",
    "    Recebe uma lista de arquivos. Lê e itera por cada um deles, \n",
    "    palavra a palavra, procurando strings diacríticas que foram \n",
    "    'hard-coded' em um dicionário. Quando detecta uma delas, faz \n",
    "    a substituição da string detectada pelo value do dicionário.\n",
    "    \n",
    "    >> PARÂMETROS\n",
    "    \n",
    "    file_list -> Lista de arquivos que devem ter os valores substituídos\n",
    "    \n",
    "    '''\n",
    "    \n",
    "    # Define um dicionário com os dados que devem ser repostos\n",
    "    corresp = {\n",
    "     'ç':'ç',\n",
    "     'à':'à',\n",
    "     'á':'á',\n",
    "     'ã':'ã',\n",
    "     'â':'â',\n",
    "     'é':'é',\n",
    "     'ê':'ê',\n",
    "     'í':'í',\n",
    "     'ó':'ó',\n",
    "     'ô':'ô',\n",
    "     'õ':'õ',\n",
    "     'ú':'ú',\n",
    "     'ü':'ü',\n",
    "    }\n",
    "    \n",
    "    # Para cada arquivo na lista\n",
    "    for file in file_list:\n",
    "        # Abra o arquivo. Note que ele já não tem newlines.\n",
    "        content = open( file )\n",
    "        content = content.read()\n",
    "        \n",
    "        # Separa todas as palavras do arquivo\n",
    "        content = content.split(\" \")\n",
    "        \n",
    "        # Para cada palavra no conteúdo\n",
    "        for index, word in enumerate( content ):\n",
    "            \n",
    "            # Chega para ver se os valores do dicionário estão na palavra\n",
    "            for key, value in corresp.items():\n",
    "                \n",
    "                # Se estiver, substitui\n",
    "                if key in word:\n",
    "                    content[index] = content[index].replace(key, value)\n",
    "            \n",
    "        # Após substituir todas as palavras...\n",
    "        # Se o diretório de textos limpos não exitir, crie um\n",
    "        new_fp = '../output/txts-limpos/'\n",
    "        if not os.path.exists(new_fp):\n",
    "            os.makedirs(new_fp)\n",
    "        \n",
    "        # Salve um arquivo com o mesmo nome do original neste novo diretório\n",
    "        new_fn = file[ 13: ]\n",
    "        with open ( new_fp + new_fn, 'w+') as f:\n",
    "            f.write(\" \".join(content))\n",
    "        \n"
   ]
  },
  {
   "cell_type": "code",
   "execution_count": 5,
   "metadata": {
    "collapsed": true
   },
   "outputs": [],
   "source": [
    "clean_diacritics(files)"
   ]
  }
 ],
 "metadata": {
  "kernelspec": {
   "display_name": "Python 3",
   "language": "python",
   "name": "python3"
  },
  "language_info": {
   "codemirror_mode": {
    "name": "ipython",
    "version": 3
   },
   "file_extension": ".py",
   "mimetype": "text/x-python",
   "name": "python",
   "nbconvert_exporter": "python",
   "pygments_lexer": "ipython3",
   "version": "3.6.3"
  }
 },
 "nbformat": 4,
 "nbformat_minor": 2
}
